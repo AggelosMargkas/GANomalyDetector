{
 "cells": [
  {
   "cell_type": "code",
   "execution_count": null,
   "metadata": {},
   "outputs": [],
   "source": [
    "from pathlib import Path\n",
    "import os\n",
    "import shutil\n",
    "\n",
    "directory = 'C:/Users/junio/Desktop/Thesis/CBIS_DDSM_Image_Processing/fullMammogramsConvertedToPng'\n",
    "parent_dir = 'C:/Users/junio/Desktop/Thesis/CBIS_DDSM_Image_Processing/comparison_full_mammos'\n",
    "\n",
    "for filename in os.listdir(directory):\n",
    "\n",
    "    new_direcory_name = filename[0:5]\n",
    "\n",
    "    original = directory + r\"/\" + filename\n",
    "    print(original)\n",
    "    # Path\n",
    "    target_directory_path = os.path.join(parent_dir, new_direcory_name)\n",
    "    \n",
    "    #assert os.path.isfile(target_directory_path)\n",
    "    \n",
    "    shutil.copy2(original, target_directory_path)\n",
    "    \n",
    "    print(filename[0:5])\n",
    "\n",
    "#Path(r'C:\\Users\\junio\\Desktop\\Thesis\\CBIS_DDSM_Image_Processing\\fullMammogramsConvertedToPng\\1-000.jpg').stem\n"
   ]
  },
  {
   "cell_type": "code",
   "execution_count": null,
   "metadata": {},
   "outputs": [],
   "source": [
    "import os\n",
    " \n",
    "rootdir = 'C:/Users/junio/Desktop/Thesis/CBIS_DDSM_Image_Processing/comparison_full_mammos'\n",
    "image_dir = []\n",
    "for file in os.listdir(rootdir):\n",
    "    d = os.path.join(rootdir, file)\n",
    "    if os.path.isdir(d):\n",
    "        for filename in os.listdir(d):\n",
    "            img = d + r\"/\" + filename \n",
    "            image_dir.append(img)\n",
    "\n",
    "print(image_dir)"
   ]
  },
  {
   "cell_type": "code",
   "execution_count": 34,
   "metadata": {},
   "outputs": [
    {
     "name": "stderr",
     "output_type": "stream",
     "text": [
      "c:\\Users\\junio\\AppData\\Local\\Programs\\Python\\Python310\\lib\\site-packages\\scipy\\__init__.py:146: UserWarning: A NumPy version >=1.16.5 and <1.23.0 is required for this version of SciPy (detected version 1.23.4\n",
      "  warnings.warn(f\"A NumPy version >={np_minversion} and <{np_maxversion}\"\n"
     ]
    }
   ],
   "source": [
    "from NYU_crop_single_mammogram import crop_mammogram_one_image\n",
    "\n",
    "# vector arranging the transformation of the image, needed on the NYY library.\n",
    "scan = {\"horizontal_flip\": \"NO\", \"side\": \"R\"}\n",
    "\n",
    "def crop_a_normal_mammogramm(image_path):\n",
    "    \"\"\"This function is using the function of NYU to crop the mammogramm using morphological transformations.\n",
    "       Takes as inputh the path of a normal mammogramm and returns a plot of histrogramm of its processed and normal version.\n",
    "\n",
    "    Args:\n",
    "        image_path (str):\n",
    "    \"\"\"\n",
    "    \n",
    "    input_dir = image_path\n",
    "    output_dir = input_dir.replace('.jpg', \"_NYU.jpg\")\n",
    "\n",
    "    cropping_info = crop_mammogram_one_image(\n",
    "        scan, input_dir, output_dir, 100, 50)\n"
   ]
  },
  {
   "cell_type": "code",
   "execution_count": null,
   "metadata": {},
   "outputs": [],
   "source": [
    "for p in image_dir:\n",
    "    crop_a_normal_mammogramm(p)"
   ]
  }
 ],
 "metadata": {
  "kernelspec": {
   "display_name": "Python 3.10.1 64-bit",
   "language": "python",
   "name": "python3"
  },
  "language_info": {
   "codemirror_mode": {
    "name": "ipython",
    "version": 3
   },
   "file_extension": ".py",
   "mimetype": "text/x-python",
   "name": "python",
   "nbconvert_exporter": "python",
   "pygments_lexer": "ipython3",
   "version": "3.10.1"
  },
  "orig_nbformat": 4,
  "vscode": {
   "interpreter": {
    "hash": "78d3879e55fa46ad822c0717174859e77a1b80e72b088d1f45bc1ee831f1082d"
   }
  }
 },
 "nbformat": 4,
 "nbformat_minor": 2
}
